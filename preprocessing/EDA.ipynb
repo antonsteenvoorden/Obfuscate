{
 "cells": [
  {
   "cell_type": "code",
   "execution_count": 1,
   "metadata": {},
   "outputs": [],
   "source": [
    "import os\n",
    "from os.path import join, isdir\n",
    "import shutil"
   ]
  },
  {
   "cell_type": "code",
   "execution_count": 38,
   "metadata": {},
   "outputs": [],
   "source": [
    "# get all folders\n",
    "base_path = 'MultiPIE_sample/'\n",
    "testdir = 'allimg/'\n",
    "folders = [folder for folder in os.listdir(base_path) if isdir(join(base_path, folder))]"
   ]
  },
  {
   "cell_type": "code",
   "execution_count": 45,
   "metadata": {
    "scrolled": true
   },
   "outputs": [
    {
     "name": "stdout",
     "output_type": "stream",
     "text": [
      "allimg/001_01_041_17_0.png\n",
      "allimg/001_01_041_17_1.png\n",
      "allimg/001_01_190_07_0.png\n",
      "allimg/001_01_190_07_1.png\n",
      "allimg/001_01_080_17_0.png\n",
      "allimg/001_01_080_17_1.png\n",
      "allimg/001_01_050_07_0.png\n",
      "allimg/001_01_050_07_1.png\n",
      "allimg/001_01_080_12_0.png\n",
      "allimg/001_01_080_12_1.png\n",
      "allimg/001_01_190_12_0.png\n",
      "allimg/001_01_190_12_1.png\n",
      "allimg/001_01_051_12_0.png\n",
      "allimg/001_01_051_12_1.png\n",
      "allimg/001_01_140_17_0.png\n",
      "allimg/001_01_140_17_1.png\n",
      "allimg/001_01_130_02_0.png\n",
      "allimg/001_01_130_02_1.png\n",
      "allimg/001_01_080_07_0.png\n",
      "allimg/001_01_080_07_1.png\n",
      "allimg/001_01_130_12_0.png\n",
      "allimg/001_01_130_12_1.png\n",
      "allimg/001_01_190_02_0.png\n",
      "allimg/001_01_190_02_1.png\n",
      "allimg/001_01_050_17_0.png\n",
      "allimg/001_01_050_17_1.png\n",
      "allimg/001_01_050_12_0.png\n",
      "allimg/001_01_050_12_1.png\n",
      "allimg/001_01_190_17_0.png\n",
      "allimg/001_01_190_17_1.png\n",
      "allimg/001_01_051_07_0.png\n",
      "allimg/001_01_051_07_1.png\n",
      "allimg/001_01_140_12_0.png\n",
      "allimg/001_01_140_12_1.png\n",
      "allimg/001_01_130_07_0.png\n",
      "allimg/001_01_130_07_1.png\n",
      "allimg/001_01_041_12_0.png\n",
      "allimg/001_01_041_12_1.png\n",
      "allimg/001_01_080_02_0.png\n",
      "allimg/001_01_080_02_1.png\n",
      "allimg/001_01_041_02_0.png\n",
      "allimg/001_01_041_02_1.png\n",
      "allimg/001_01_051_17_0.png\n",
      "allimg/001_01_051_17_1.png\n",
      "allimg/001_01_140_07_0.png\n",
      "allimg/001_01_140_07_1.png\n",
      "allimg/001_01_050_02_0.png\n",
      "allimg/001_01_050_02_1.png\n",
      "allimg/001_01_140_02_0.png\n",
      "allimg/001_01_140_02_1.png\n",
      "allimg/001_01_041_07_0.png\n",
      "allimg/001_01_041_07_1.png\n",
      "allimg/001_01_051_02_0.png\n",
      "allimg/001_01_051_02_1.png\n",
      "allimg/001_01_130_17_0.png\n",
      "allimg/001_01_130_17_1.png\n"
     ]
    }
   ],
   "source": [
    "# copy all images in subfolders into one big _testdir_ folder\n",
    "for f in folders:\n",
    "    for i, img_name in enumerate(os.listdir(join(base_path, f))):\n",
    "        print(join(testdir, f + '_' + str(i) + '.png'))\n",
    "        shutil.copyfile(join(base_path, f, img_name), join(testdir, f + '_' + str(i) + '.png'))"
   ]
  },
  {
   "cell_type": "code",
   "execution_count": 58,
   "metadata": {},
   "outputs": [
    {
     "name": "stdout",
     "output_type": "stream",
     "text": [
      "['164', '337', '293', '002', '022', '047', '124', '068', '123', '120', '191', '204', '084', '003', '234', '237', '064', '296', '049', '302', '310', '160', '136', '038', '344', '286', '009', '329', '335', '210', '257', '189', '309', '321', '021', '033', '223', '036', '103', '202', '318', '265', '113', '303', '016', '057', '186', '027', '072', '060', '185', '076', '224', '322', '156', '037', '065', '074', '058', '137', '004', '079', '001', '044', '077', '116', '118', '199', '163', '208', '315', '325', '248', '092', '253', '069', '029', '018', '190', '008', '343', '203', '161', '215', '075', '143', '030', '149', '059', '086', '327', '071', '214', '159', '247', '024', '145', '166', '201', '256', '032', '133', '051', '147', '097', '067', '225', '045', '188', '207', '278', '339', '140', '102', '219', '141', '228', '096', '254', '260', '174', '276', '135', '162', '231', '287', '014', '262', '263', '169', '298', '007', '211', '230', '200', '313', '153', '063', '050', '151', '091', '125', '132', '205', '087', '258', '264', '042', '070', '255', '288', '317', '332', '015', '085', '101', '095', '291', '017', '128', '178', '328', '041', '006', '333', '046', '180', '197', '011', '126', '242', '323', '342', '243', '295', '244', '110', '048', '183', '273', '290', '216', '306', '035', '146', '138', '150', '209', '117', '346', '013', '338', '227', '198', '233', '148', '082', '312', '081', '175', '019', '055', '100', '119', '094', '249', '142', '250', '252', '184', '284', '112', '181', '320', '130', '300', '089', '330', '345', '241', '098', '187', '311', '218', '158', '238', '052', '285', '062', '324', '341', '168', '229', '054', '012', '028', '171', '115', '111', '195', '220', '025', '297', '090', '105', '152', '235', '292', '005', '122', '266', '314', '165', '056', '232', '271', '144', '212', '261', '245', '277', '279', '040', '066', '073', '304', '268', '196', '305', '020', '131', '326', '134', '308', '316', '083', '221', '106', '104', '108', '301', '236', '193', '240', '031', '182', '259', '172', '053', '043', '107', '109', '155', '039', '222', '194', '274', '280', '294', '179', '173', '217', '129', '267', '272', '289', '226', '334', '319', '121', '154', '170', '269', '061', '088', '034', '093', '251', '167', '239', '078', '023', '099', '157', '026', '177', '114', '336', '080', '206', '192', '010', '176', '139', '127', '299', '246']\n"
     ]
    }
   ],
   "source": [
    "# list all unique values for any of the below mentioned image properties\n",
    "# 0 = person ID\n",
    "# 1 = session ID\n",
    "# 2 = viewpoint\n",
    "# 3 = lighting\n",
    "# 4 = expression\n",
    "filename_part = 0\n",
    "with open('all_folders.txt', 'r') as f:\n",
    "    all_folders = f.read().splitlines()\n",
    "\n",
    "viewpoints = []\n",
    "for folder in all_folders:\n",
    "    viewpoints += [folder.split('_')[filename_part]]\n",
    "\n",
    "print(list(set(viewpoints)))"
   ]
  },
  {
   "cell_type": "code",
   "execution_count": 55,
   "metadata": {},
   "outputs": [
    {
     "data": {
      "text/plain": [
       "1"
      ]
     },
     "execution_count": 55,
     "metadata": {},
     "output_type": "execute_result"
    }
   ],
   "source": [
    "len(str(3))"
   ]
  },
  {
   "cell_type": "code",
   "execution_count": 56,
   "metadata": {},
   "outputs": [
    {
     "data": {
      "text/plain": [
       "'000'"
      ]
     },
     "execution_count": 56,
     "metadata": {},
     "output_type": "execute_result"
    }
   ],
   "source": [
    "'0'*3"
   ]
  },
  {
   "cell_type": "markdown",
   "metadata": {},
   "source": [
    "# Dataset structure"
   ]
  },
  {
   "cell_type": "markdown",
   "metadata": {},
   "source": [
    "Filename structure:\n",
    "\n",
    "    <personID>_<sessionID>_<viewpoint>_<lighting>_<expression>.png\n",
    "    \n",
    "    PersonID:   The ID number of the person, between 001-346 (but there are be 337 in total...)\n",
    "    sessionID:  Either 01, 02, 03 or 04\n",
    "    viewpoint:  One out of ['051', '080', '140', '190', '041', '130', '050'], see image below for details\n",
    "    lighting:   One out of ['02', '07', '12', '17']\n",
    "                        '02': left side of face illuminated\n",
    "                        '07': front side of face illuminated\n",
    "                        '12': right side of face illuminated\n",
    "                        '17': all sides of face illuminated\n",
    "    expression: 0: neutral\n",
    "                1: happy\n",
    "                \n",
    "\n",
    "\n",
    "\n",
    "    \n",
    "![viewpoint details](report_images/camera_viewpoints.png)"
   ]
  },
  {
   "cell_type": "code",
   "execution_count": null,
   "metadata": {},
   "outputs": [],
   "source": []
  },
  {
   "cell_type": "markdown",
   "metadata": {},
   "source": [
    "# RaFD structure"
   ]
  },
  {
   "cell_type": "code",
   "execution_count": 2,
   "metadata": {},
   "outputs": [],
   "source": [
    "with open('all_rafd_filenames.txt', 'r') as f:\n",
    "    all_rafd = f.read().splitlines()"
   ]
  },
  {
   "cell_type": "code",
   "execution_count": 3,
   "metadata": {},
   "outputs": [
    {
     "name": "stdout",
     "output_type": "stream",
     "text": [
      "RaFD total images: 8040\n"
     ]
    }
   ],
   "source": [
    "print(\"RaFD total images: {}\".format(len(all_rafd)))"
   ]
  },
  {
   "cell_type": "code",
   "execution_count": 18,
   "metadata": {},
   "outputs": [],
   "source": [
    "all_viewpoints = [elem.split('_')[0][4:] for elem in all_rafd]\n",
    "all_model_numbers = [elem.split('_')[1] for elem in all_rafd]\n",
    "all_ethnicities = [elem.split('_')[2] for elem in all_rafd]\n",
    "all_genders = [elem.split('_')[3] for elem in all_rafd]\n",
    "all_emotions = [elem.split('_')[4] for elem in all_rafd]\n",
    "all_gazes = [elem.split('_')[5].split('.')[0] for elem in all_rafd]"
   ]
  },
  {
   "cell_type": "code",
   "execution_count": 5,
   "metadata": {},
   "outputs": [
    {
     "name": "stdout",
     "output_type": "stream",
     "text": [
      "Unique viewpoints: {'045', '180', '135', '090', '000'}\n"
     ]
    }
   ],
   "source": [
    "print(\"Unique viewpoints:\", set(all_viewpoints))"
   ]
  },
  {
   "cell_type": "code",
   "execution_count": 7,
   "metadata": {},
   "outputs": [
    {
     "data": {
      "text/plain": [
       "67"
      ]
     },
     "execution_count": 7,
     "metadata": {},
     "output_type": "execute_result"
    }
   ],
   "source": [
    "len(set(all_model_numbers))"
   ]
  },
  {
   "cell_type": "code",
   "execution_count": 8,
   "metadata": {},
   "outputs": [
    {
     "data": {
      "text/plain": [
       "73"
      ]
     },
     "execution_count": 8,
     "metadata": {},
     "output_type": "execute_result"
    }
   ],
   "source": [
    "max(map(int, all_model_numbers))"
   ]
  },
  {
   "cell_type": "code",
   "execution_count": 12,
   "metadata": {},
   "outputs": [
    {
     "name": "stdout",
     "output_type": "stream",
     "text": [
      "model numbers raning from 1 to 73 (inclusive), with the exception of: {0, 34, 66, 6, 13, 17, 62}\n"
     ]
    }
   ],
   "source": [
    "print(\"model numbers raning from 1 to {} (inclusive), with the exception of: {}\".format(max(map(int, all_model_numbers)), set(range(max(map(int, all_model_numbers))+1)) - set(map(int, all_model_numbers))))"
   ]
  },
  {
   "cell_type": "code",
   "execution_count": 14,
   "metadata": {},
   "outputs": [
    {
     "name": "stdout",
     "output_type": "stream",
     "text": [
      "the ethicities in the data are: {'Kid', 'Caucasian', 'Moroccan'}\n"
     ]
    }
   ],
   "source": [
    "print(\"the ethicities in the data are: {}\".format(set(all_ethnicities)))"
   ]
  },
  {
   "cell_type": "code",
   "execution_count": 15,
   "metadata": {},
   "outputs": [
    {
     "name": "stdout",
     "output_type": "stream",
     "text": [
      "all genders are: {'female', 'male'}\n"
     ]
    }
   ],
   "source": [
    "print(\"all genders are: {}\".format(set(all_genders)))"
   ]
  },
  {
   "cell_type": "code",
   "execution_count": 16,
   "metadata": {},
   "outputs": [
    {
     "name": "stdout",
     "output_type": "stream",
     "text": [
      "all emotions are: {'happy', 'contemptuous', 'disgusted', 'fearful', 'neutral', 'angry', 'surprised', 'sad'}\n"
     ]
    }
   ],
   "source": [
    "print(\"all emotions are: {}\".format(set(all_emotions)))"
   ]
  },
  {
   "cell_type": "code",
   "execution_count": 19,
   "metadata": {},
   "outputs": [
    {
     "name": "stdout",
     "output_type": "stream",
     "text": [
      "all gazes are: {'right', 'frontal', 'left'}\n"
     ]
    }
   ],
   "source": [
    "print(\"all gazes are: {}\".format(set(all_gazes)))"
   ]
  },
  {
   "cell_type": "markdown",
   "metadata": {},
   "source": [
    "# test stuff"
   ]
  },
  {
   "cell_type": "code",
   "execution_count": 59,
   "metadata": {},
   "outputs": [],
   "source": [
    "from os.path import basename\n",
    "from zipfile import "
   ]
  },
  {
   "cell_type": "code",
   "execution_count": 60,
   "metadata": {},
   "outputs": [
    {
     "data": {
      "text/plain": [
       "'c.png'"
      ]
     },
     "execution_count": 60,
     "metadata": {},
     "output_type": "execute_result"
    }
   ],
   "source": [
    "a = 'a/b/d/c.png'\n",
    "basename(a)"
   ]
  }
 ],
 "metadata": {
  "kernelspec": {
   "display_name": "Python 3 [HACKED]",
   "language": "python",
   "name": "python3"
  },
  "language_info": {
   "codemirror_mode": {
    "name": "ipython",
    "version": 3
   },
   "file_extension": ".py",
   "mimetype": "text/x-python",
   "name": "python",
   "nbconvert_exporter": "python",
   "pygments_lexer": "ipython3",
   "version": "3.5.2"
  }
 },
 "nbformat": 4,
 "nbformat_minor": 2
}
